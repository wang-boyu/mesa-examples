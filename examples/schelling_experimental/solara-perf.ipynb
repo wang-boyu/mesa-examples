{
 "cells": [
  {
   "cell_type": "code",
   "execution_count": 1,
   "metadata": {},
   "outputs": [
    {
     "data": {
      "application/javascript": [
       "\n",
       "                    window.jupyter_python_executable = '/usr/local/Cellar/python@3.12/3.12.7_1/Frameworks/Python.framework/Versions/3.12/Resources/Python.app/Contents/MacOS/Python';\n",
       "                    window.jupyter_widget_checks_silent = true;\n",
       "                    window.jupyter_widget_checks_libraries = [{\"python\": \"ipyvuetify\", \"classic\": \"jupyter-vuetify/extension\", \"lab\": \"jupyter-vuetify\"}, {\"python\": \"ipyvue\", \"classic\": \"jupyter-vue/extension\", \"lab\": \"jupyter-vue\"}];\n",
       "                    "
      ],
      "text/plain": [
       "<IPython.core.display.Javascript object>"
      ]
     },
     "metadata": {},
     "output_type": "display_data"
    },
    {
     "data": {
      "text/html": [
       "<div class=\"jupyter-widget-checks-container\">\n",
       "    <script>\n",
       "        (function () {\n",
       "            console.log(\"Checking for jupyter-widgets extensions\")\n",
       "            const inLab = window._JUPYTERLAB !== undefined;\n",
       "            const silent = jupyter_widget_checks_silent;\n",
       "            const containers = document.getElementsByClassName('jupyter-widget-checks-container');\n",
       "            const rootEl = containers[containers.length - 1];\n",
       "            const libraries = window.jupyter_widget_checks_libraries;\n",
       "\n",
       "            function getBaseUrl() {\n",
       "                const labConfigData = document.getElementById(\"jupyter-config-data\");\n",
       "                if (labConfigData) {\n",
       "                    /* lab and Voila */\n",
       "                    return JSON.parse(labConfigData.textContent).baseUrl;\n",
       "                }\n",
       "                let base = document.body.dataset.baseUrl || document.baseURI;\n",
       "                return base;\n",
       "            }\n",
       "\n",
       "            function checkLibrary(extensions, library) {\n",
       "                let installed = false;\n",
       "                let ok = true;\n",
       "                if (inLab) {\n",
       "                    installed = _JUPYTERLAB[library.lab] !== undefined\n",
       "                } else {\n",
       "                    installed = extensions[library.classic] !== undefined;\n",
       "                    let enabled = extensions[library.classic] === true;\n",
       "                }\n",
       "                const div = document.createElement(\"div\")\n",
       "                if (installed) {\n",
       "                    if (!silent) {\n",
       "                        div.innerHTML = `Extension ${library.python} is installed at the server ✅`\n",
       "                        rootEl.appendChild(div)\n",
       "                    }\n",
       "                } else {\n",
       "                    div.innerHTML = `Extension ${library.python} is <b>NOT</b> installed at the server ❌.`\n",
       "                    rootEl.appendChild(div)\n",
       "                    ok = false;\n",
       "                }\n",
       "                return ok;\n",
       "            }\n",
       "\n",
       "            async function check() {\n",
       "                const url = `${getBaseUrl()}api/config/notebook`\n",
       "                const response = (await fetch(url));\n",
       "                const data = await response.json()\n",
       "                const extensions = data[\"load_extensions\"];\n",
       "                var ok = true;\n",
       "                let needsInstall = [];\n",
       "                libraries.forEach((library) => {\n",
       "                    if (!checkLibrary(extensions, library)) {\n",
       "                        ok = false;\n",
       "                        needsInstall.push(library.python)\n",
       "                        console.log(\"Needs install\", library.python)\n",
       "                    }\n",
       "                })\n",
       "                console.log(ok, needsInstall)\n",
       "                if (!ok) {\n",
       "                    const div = document.createElement(\"div\")\n",
       "                    const div2 = document.createElement(\"div\")\n",
       "                    div.innerHTML = `Run <code>${jupyter_python_executable} -m pip install ${needsInstall.join(\" \")}</code>. Refresh the page after installation.`\n",
       "                    div2.innerHTML = `Visit <a href=\"https://solara.dev/documentation/getting_started/troubleshoot\" target=\"_blank\">https://solara/dev/documentation/getting_started/troubleshoot</a> for more information.`\n",
       "                    rootEl.appendChild(div)\n",
       "                    rootEl.appendChild(div2)\n",
       "                }\n",
       "            }\n",
       "            check()\n",
       "        })();\n",
       "    </script>\n",
       "</div>\n"
      ],
      "text/plain": [
       "<IPython.core.display.HTML object>"
      ]
     },
     "metadata": {},
     "output_type": "display_data"
    }
   ],
   "source": [
    "%matplotlib inline\n",
    "\n",
    "from model import Schelling\n",
    "\n",
    "import io\n",
    "import warnings\n",
    "\n",
    "import matplotlib.pyplot as plt\n",
    "import networkx as nx\n",
    "import numpy as np\n",
    "import solara\n",
    "from matplotlib.cm import ScalarMappable\n",
    "from matplotlib.colors import LinearSegmentedColormap, Normalize, to_rgba\n",
    "from matplotlib.figure import Figure\n",
    "\n",
    "import mesa\n",
    "from mesa.experimental.cell_space import VoronoiGrid\n",
    "from mesa.space import PropertyLayer\n",
    "from mesa.visualization.utils import update_counter\n",
    "\n",
    "\n",
    "def _draw_grid(space, space_ax, agent_portrayal, propertylayer_portrayal, model):\n",
    "    if propertylayer_portrayal:\n",
    "        draw_property_layers(space_ax, space, propertylayer_portrayal, model)\n",
    "\n",
    "    agent_data = _get_agent_data(space, agent_portrayal)\n",
    "\n",
    "    space_ax.set_xlim(0, space.width)\n",
    "    space_ax.set_ylim(0, space.height)\n",
    "    _split_and_scatter(agent_data, space_ax)\n",
    "\n",
    "    # Draw grid lines\n",
    "    for x in range(space.width + 1):\n",
    "        space_ax.axvline(x, color=\"gray\", linestyle=\":\")\n",
    "    for y in range(space.height + 1):\n",
    "        space_ax.axhline(y, color=\"gray\", linestyle=\":\")\n",
    "\n",
    "\n",
    "def _get_agent_data(space, agent_portrayal):\n",
    "    \"\"\"Helper function to get agent data for visualization.\"\"\"\n",
    "    x, y, s, c, m = [], [], [], [], []\n",
    "    for agents, pos in space.coord_iter():\n",
    "        if not agents:\n",
    "            continue\n",
    "        if not isinstance(agents, list):\n",
    "            agents = [agents]  # noqa PLW2901\n",
    "        for agent in agents:\n",
    "            data = agent_portrayal(agent)\n",
    "            x.append(pos[0] + 0.5)  # Center the agent in the cell\n",
    "            y.append(pos[1] + 0.5)  # Center the agent in the cell\n",
    "            default_size = (180 / max(space.width, space.height)) ** 2\n",
    "            s.append(data.get(\"size\", default_size))\n",
    "            c.append(data.get(\"color\", \"tab:blue\"))\n",
    "            m.append(data.get(\"shape\", \"o\"))\n",
    "    return {\"x\": x, \"y\": y, \"s\": s, \"c\": c, \"m\": m}\n",
    "\n",
    "\n",
    "def _split_and_scatter(portray_data, space_ax):\n",
    "    \"\"\"Helper function to split and scatter agent data.\"\"\"\n",
    "    for marker in set(portray_data[\"m\"]):\n",
    "        mask = [m == marker for m in portray_data[\"m\"]]\n",
    "        space_ax.scatter(\n",
    "            [x for x, show in zip(portray_data[\"x\"], mask) if show],\n",
    "            [y for y, show in zip(portray_data[\"y\"], mask) if show],\n",
    "            s=[s for s, show in zip(portray_data[\"s\"], mask) if show],\n",
    "            c=[c for c, show in zip(portray_data[\"c\"], mask) if show],\n",
    "            marker=marker,\n",
    "        )\n",
    "\n",
    "\n",
    "def agent_portrayal(agent):\n",
    "    return {\"color\": \"tab:orange\" if agent.type == 0 else \"tab:blue\"}\n",
    "\n",
    "\n",
    "model = Schelling(200, 200, 0.8, 0.2, 3)"
   ]
  },
  {
   "cell_type": "code",
   "execution_count": 2,
   "metadata": {},
   "outputs": [
    {
     "data": {
      "application/vnd.jupyter.widget-view+json": {
       "model_id": "db839072ea5240bbb0f659ed73dd46cc",
       "version_major": 2,
       "version_minor": 0
      },
      "text/html": [
       "Cannot show widget. You probably want to rerun the code cell above (<i>Click in the code cell, and press Shift+Enter <kbd>⇧</kbd>+<kbd>↩</kbd></i>)."
      ],
      "text/plain": [
       "Cannot show ipywidgets in text"
      ]
     },
     "metadata": {},
     "output_type": "display_data"
    }
   ],
   "source": [
    "@solara.component\n",
    "def SpaceMatplotlibPng(\n",
    "    model,\n",
    "    agent_portrayal,\n",
    "    propertylayer_portrayal,\n",
    "    dependencies: list[any] | None = None,\n",
    "):\n",
    "    \"\"\"Create a Matplotlib-based space visualization component.\"\"\"\n",
    "    update_counter.get()\n",
    "    space_fig = Figure()\n",
    "    space_ax = space_fig.subplots()\n",
    "    space = getattr(model, \"grid\", None)\n",
    "    if space is None:\n",
    "        space = getattr(model, \"space\", None)\n",
    "\n",
    "    if isinstance(space, mesa.space._Grid):\n",
    "        _draw_grid(space, space_ax, agent_portrayal, propertylayer_portrayal, model)\n",
    "\n",
    "    solara.FigureMatplotlib(\n",
    "        space_fig, format=\"png\", bbox_inches=\"tight\", dependencies=dependencies\n",
    "    )\n",
    "\n",
    "\n",
    "SpaceMatplotlibPng(model, agent_portrayal, None)"
   ]
  },
  {
   "cell_type": "code",
   "execution_count": 3,
   "metadata": {},
   "outputs": [
    {
     "data": {
      "application/vnd.jupyter.widget-view+json": {
       "model_id": "6f1bd5b593f449ba9511ea96e06e421a",
       "version_major": 2,
       "version_minor": 0
      },
      "text/html": [
       "Cannot show widget. You probably want to rerun the code cell above (<i>Click in the code cell, and press Shift+Enter <kbd>⇧</kbd>+<kbd>↩</kbd></i>)."
      ],
      "text/plain": [
       "Cannot show ipywidgets in text"
      ]
     },
     "metadata": {},
     "output_type": "display_data"
    }
   ],
   "source": [
    "@solara.component\n",
    "def SpaceMatplotlibPng(\n",
    "    model,\n",
    "    agent_portrayal,\n",
    "    propertylayer_portrayal,\n",
    "    dependencies: list[any] | None = None,\n",
    "):\n",
    "    \"\"\"Create a Matplotlib-based space visualization component.\"\"\"\n",
    "    update_counter.get()\n",
    "    space_fig = Figure()\n",
    "    space_ax = space_fig.subplots()\n",
    "    space = getattr(model, \"grid\", None)\n",
    "    if space is None:\n",
    "        space = getattr(model, \"space\", None)\n",
    "\n",
    "    if isinstance(space, mesa.space._Grid):\n",
    "        _draw_grid(space, space_ax, agent_portrayal, propertylayer_portrayal, model)\n",
    "\n",
    "    solara.FigureMatplotlib(\n",
    "        space_fig, format=\"png\", dpi=300, bbox_inches=\"tight\", dependencies=dependencies\n",
    "    )\n",
    "\n",
    "\n",
    "SpaceMatplotlibPng(model, agent_portrayal, None)"
   ]
  },
  {
   "cell_type": "code",
   "execution_count": 4,
   "metadata": {},
   "outputs": [
    {
     "data": {
      "application/vnd.jupyter.widget-view+json": {
       "model_id": "1cd245c1d967485998708ad4295b2893",
       "version_major": 2,
       "version_minor": 0
      },
      "text/html": [
       "Cannot show widget. You probably want to rerun the code cell above (<i>Click in the code cell, and press Shift+Enter <kbd>⇧</kbd>+<kbd>↩</kbd></i>)."
      ],
      "text/plain": [
       "Cannot show ipywidgets in text"
      ]
     },
     "metadata": {},
     "output_type": "display_data"
    }
   ],
   "source": [
    "@solara.component\n",
    "def SpaceMatplotlibSvg(\n",
    "    model,\n",
    "    agent_portrayal,\n",
    "    propertylayer_portrayal,\n",
    "    dependencies: list[any] | None = None,\n",
    "):\n",
    "    \"\"\"Create a Matplotlib-based space visualization component.\"\"\"\n",
    "    update_counter.get()\n",
    "    space_fig = Figure()\n",
    "    space_ax = space_fig.subplots()\n",
    "    space = getattr(model, \"grid\", None)\n",
    "    if space is None:\n",
    "        space = getattr(model, \"space\", None)\n",
    "\n",
    "    if isinstance(space, mesa.space._Grid):\n",
    "        _draw_grid(space, space_ax, agent_portrayal, propertylayer_portrayal, model)\n",
    "\n",
    "    solara.FigureMatplotlib(\n",
    "        space_fig, format=\"svg\", bbox_inches=\"tight\", dependencies=dependencies\n",
    "    )\n",
    "\n",
    "\n",
    "SpaceMatplotlibSvg(model, agent_portrayal, None)"
   ]
  },
  {
   "cell_type": "code",
   "execution_count": 5,
   "metadata": {},
   "outputs": [],
   "source": [
    "def SpaceMatplotlibPng(\n",
    "    model,\n",
    "    agent_portrayal,\n",
    "    propertylayer_portrayal,\n",
    "    dependencies: list[any] | None = None,\n",
    "):\n",
    "    \"\"\"Create a Matplotlib-based space visualization component.\"\"\"\n",
    "    update_counter.get()\n",
    "    space_fig = Figure()\n",
    "    space_ax = space_fig.subplots()\n",
    "    space = getattr(model, \"grid\", None)\n",
    "    if space is None:\n",
    "        space = getattr(model, \"space\", None)\n",
    "\n",
    "    if isinstance(space, mesa.space._Grid):\n",
    "        _draw_grid(space, space_ax, agent_portrayal, propertylayer_portrayal, model)\n",
    "\n",
    "    f = io.BytesIO()\n",
    "    space_fig.savefig(f, format=\"png\")"
   ]
  },
  {
   "cell_type": "code",
   "execution_count": 6,
   "metadata": {},
   "outputs": [
    {
     "name": "stdout",
     "output_type": "stream",
     "text": [
      "863 ms ± 50.9 ms per loop (mean ± std. dev. of 7 runs, 1 loop each)\n"
     ]
    }
   ],
   "source": [
    "%%timeit\n",
    "SpaceMatplotlibPng(model, agent_portrayal, None)"
   ]
  },
  {
   "cell_type": "code",
   "execution_count": 7,
   "metadata": {},
   "outputs": [],
   "source": [
    "def SpaceMatplotlibPngTightBbox(\n",
    "    model,\n",
    "    agent_portrayal,\n",
    "    propertylayer_portrayal,\n",
    "    dependencies: list[any] | None = None,\n",
    "):\n",
    "    \"\"\"Create a Matplotlib-based space visualization component.\"\"\"\n",
    "    update_counter.get()\n",
    "    space_fig = Figure()\n",
    "    space_ax = space_fig.subplots()\n",
    "    space = getattr(model, \"grid\", None)\n",
    "    if space is None:\n",
    "        space = getattr(model, \"space\", None)\n",
    "\n",
    "    if isinstance(space, mesa.space._Grid):\n",
    "        _draw_grid(space, space_ax, agent_portrayal, propertylayer_portrayal, model)\n",
    "\n",
    "    f = io.BytesIO()\n",
    "    space_fig.savefig(f, format=\"png\", bbox_inches=\"tight\")"
   ]
  },
  {
   "cell_type": "code",
   "execution_count": 8,
   "metadata": {},
   "outputs": [
    {
     "name": "stdout",
     "output_type": "stream",
     "text": [
      "886 ms ± 33.1 ms per loop (mean ± std. dev. of 7 runs, 1 loop each)\n"
     ]
    }
   ],
   "source": [
    "%%timeit\n",
    "SpaceMatplotlibPngTightBbox(model, agent_portrayal, None)"
   ]
  },
  {
   "cell_type": "code",
   "execution_count": 9,
   "metadata": {},
   "outputs": [],
   "source": [
    "def SpaceMatplotlibPngDpi(\n",
    "    model,\n",
    "    agent_portrayal,\n",
    "    propertylayer_portrayal,\n",
    "    dependencies: list[any] | None = None,\n",
    "):\n",
    "    \"\"\"Create a Matplotlib-based space visualization component.\"\"\"\n",
    "    update_counter.get()\n",
    "    space_fig = Figure()\n",
    "    space_ax = space_fig.subplots()\n",
    "    space = getattr(model, \"grid\", None)\n",
    "    if space is None:\n",
    "        space = getattr(model, \"space\", None)\n",
    "\n",
    "    if isinstance(space, mesa.space._Grid):\n",
    "        _draw_grid(space, space_ax, agent_portrayal, propertylayer_portrayal, model)\n",
    "\n",
    "    f = io.BytesIO()\n",
    "    space_fig.savefig(f, format=\"png\", dpi=300)"
   ]
  },
  {
   "cell_type": "code",
   "execution_count": 10,
   "metadata": {},
   "outputs": [
    {
     "name": "stdout",
     "output_type": "stream",
     "text": [
      "1.37 s ± 41.2 ms per loop (mean ± std. dev. of 7 runs, 1 loop each)\n"
     ]
    }
   ],
   "source": [
    "%%timeit\n",
    "SpaceMatplotlibPngDpi(model, agent_portrayal, None)"
   ]
  },
  {
   "cell_type": "code",
   "execution_count": 11,
   "metadata": {},
   "outputs": [],
   "source": [
    "def SpaceMatplotlibPngDpiBbox(\n",
    "    model,\n",
    "    agent_portrayal,\n",
    "    propertylayer_portrayal,\n",
    "    dependencies: list[any] | None = None,\n",
    "):\n",
    "    \"\"\"Create a Matplotlib-based space visualization component.\"\"\"\n",
    "    update_counter.get()\n",
    "    space_fig = Figure()\n",
    "    space_ax = space_fig.subplots()\n",
    "    space = getattr(model, \"grid\", None)\n",
    "    if space is None:\n",
    "        space = getattr(model, \"space\", None)\n",
    "\n",
    "    if isinstance(space, mesa.space._Grid):\n",
    "        _draw_grid(space, space_ax, agent_portrayal, propertylayer_portrayal, model)\n",
    "\n",
    "    f = io.BytesIO()\n",
    "    space_fig.savefig(f, format=\"png\", dpi=300, bbox_inches=\"tight\")"
   ]
  },
  {
   "cell_type": "code",
   "execution_count": 12,
   "metadata": {},
   "outputs": [
    {
     "name": "stdout",
     "output_type": "stream",
     "text": [
      "1.38 s ± 38.1 ms per loop (mean ± std. dev. of 7 runs, 1 loop each)\n"
     ]
    }
   ],
   "source": [
    "%%timeit\n",
    "SpaceMatplotlibPngDpiBbox(model, agent_portrayal, None)"
   ]
  },
  {
   "cell_type": "code",
   "execution_count": 13,
   "metadata": {},
   "outputs": [],
   "source": [
    "def SpaceMatplotlibSvg(\n",
    "    model,\n",
    "    agent_portrayal,\n",
    "    propertylayer_portrayal,\n",
    "    dependencies: list[any] | None = None,\n",
    "):\n",
    "    \"\"\"Create a Matplotlib-based space visualization component.\"\"\"\n",
    "    update_counter.get()\n",
    "    space_fig = Figure()\n",
    "    space_ax = space_fig.subplots()\n",
    "    space = getattr(model, \"grid\", None)\n",
    "    if space is None:\n",
    "        space = getattr(model, \"space\", None)\n",
    "\n",
    "    if isinstance(space, mesa.space._Grid):\n",
    "        _draw_grid(space, space_ax, agent_portrayal, propertylayer_portrayal, model)\n",
    "\n",
    "    f = io.BytesIO()\n",
    "    space_fig.savefig(f, format=\"svg\")"
   ]
  },
  {
   "cell_type": "code",
   "execution_count": 14,
   "metadata": {},
   "outputs": [
    {
     "name": "stdout",
     "output_type": "stream",
     "text": [
      "3.89 s ± 178 ms per loop (mean ± std. dev. of 7 runs, 1 loop each)\n"
     ]
    }
   ],
   "source": [
    "%%timeit\n",
    "SpaceMatplotlibSvg(model, agent_portrayal, None)"
   ]
  },
  {
   "cell_type": "code",
   "execution_count": 15,
   "metadata": {},
   "outputs": [],
   "source": [
    "def SpaceMatplotlibSvgTightBbox(\n",
    "    model,\n",
    "    agent_portrayal,\n",
    "    propertylayer_portrayal,\n",
    "    dependencies: list[any] | None = None,\n",
    "):\n",
    "    \"\"\"Create a Matplotlib-based space visualization component.\"\"\"\n",
    "    update_counter.get()\n",
    "    space_fig = Figure()\n",
    "    space_ax = space_fig.subplots()\n",
    "    space = getattr(model, \"grid\", None)\n",
    "    if space is None:\n",
    "        space = getattr(model, \"space\", None)\n",
    "\n",
    "    if isinstance(space, mesa.space._Grid):\n",
    "        _draw_grid(space, space_ax, agent_portrayal, propertylayer_portrayal, model)\n",
    "\n",
    "    f = io.BytesIO()\n",
    "    space_fig.savefig(f, format=\"svg\", bbox_inches=\"tight\")"
   ]
  },
  {
   "cell_type": "code",
   "execution_count": 16,
   "metadata": {},
   "outputs": [
    {
     "name": "stdout",
     "output_type": "stream",
     "text": [
      "3.96 s ± 87.4 ms per loop (mean ± std. dev. of 7 runs, 1 loop each)\n"
     ]
    }
   ],
   "source": [
    "%%timeit\n",
    "SpaceMatplotlibSvgTightBbox(model, agent_portrayal, None)"
   ]
  }
 ],
 "metadata": {
  "kernelspec": {
   "display_name": "Python 3 (ipykernel)",
   "language": "python",
   "name": "python3"
  },
  "language_info": {
   "codemirror_mode": {
    "name": "ipython",
    "version": 3
   },
   "file_extension": ".py",
   "mimetype": "text/x-python",
   "name": "python",
   "nbconvert_exporter": "python",
   "pygments_lexer": "ipython3",
   "version": "3.12.7"
  },
  "widgets": {
   "state": {},
   "version": "1.1.2"
  }
 },
 "nbformat": 4,
 "nbformat_minor": 4
}
