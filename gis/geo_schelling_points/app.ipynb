{
 "cells": [
  {
   "cell_type": "markdown",
   "id": "894b9717",
   "metadata": {
    "toc": true
   },
   "source": [
    "<h1>Table of Contents<span class=\"tocSkip\"></span></h1>\n",
    "<div class=\"toc\"><ul class=\"toc-item\"></ul></div>"
   ]
  },
  {
   "cell_type": "code",
   "execution_count": 47,
   "id": "96b4026e-1c6f-45c9-9dff-79c9d725ffa9",
   "metadata": {
    "ExecuteTime": {
     "end_time": "2023-11-04T18:14:53.637636Z",
     "start_time": "2023-11-04T18:14:53.630871Z"
    }
   },
   "outputs": [],
   "source": [
    "import solara\n",
    "import matplotlib as mpl\n",
    "import matplotlib.pyplot as plt\n",
    "from matplotlib.figure import Figure\n",
    "import contextily as cx\n",
    "\n",
    "import mesa\n",
    "import mesa_geo as mg\n",
    "from mesa.experimental.jupyter_viz import JupyterViz, make_text\n",
    "\n",
    "from geo_schelling_points.agents import PersonAgent, RegionAgent\n",
    "from geo_schelling_points.model import GeoSchellingPoints\n",
    "\n",
    "\n",
    "def make_geospace(model, agent_portrayal=None):\n",
    "    space_fig, space_ax = plt.subplots()\n",
    "    _draw_layers(model.space, space_ax)\n",
    "    _draw_agents(model.space, space_ax)\n",
    "    space_ax.set_axis_off()\n",
    "    solara.FigureMatplotlib(space_fig, format=\"png\")\n",
    "\n",
    "\n",
    "def _draw_layers(space, space_ax):\n",
    "    pass\n",
    "\n",
    "\n",
    "def _draw_agents(space, space_ax):\n",
    "    region_agents = space.get_agents_as_GeoDataFrame(agent_cls=RegionAgent)\n",
    "    region_agents[\"is_red\"] = region_agents[\"red_cnt\"] > region_agents[\"blue_cnt\"]\n",
    "\n",
    "    color_map = mpl.colors.ListedColormap(plt.cm.Set2.colors[:2])\n",
    "    region_agents.plot(column=\"is_red\", cmap=color_map, alpha=0.5, ax=space_ax)\n",
    "\n",
    "    person_agents = space.get_agents_as_GeoDataFrame(agent_cls=PersonAgent)\n",
    "    person_agents.plot(column=\"is_red\", markersize=1, cmap=color_map, ax=space_ax)\n",
    "\n",
    "    space_ax.set_xlim([-1e6, 4e6])\n",
    "    space_ax.set_ylim([4.3e6, 9.3e6])\n",
    "    cx.add_basemap(space_ax, source=cx.providers.CartoDB.Positron)"
   ]
  },
  {
   "cell_type": "code",
   "execution_count": 48,
   "id": "e708267e-a4b6-42d2-800b-9957e1065b4c",
   "metadata": {
    "ExecuteTime": {
     "end_time": "2023-11-04T18:14:57.201354Z",
     "start_time": "2023-11-04T18:14:53.775205Z"
    }
   },
   "outputs": [
    {
     "data": {
      "application/vnd.jupyter.widget-view+json": {
       "model_id": "2b64aaecc5834d99a2e53232e4d907d4",
       "version_major": 2,
       "version_minor": 0
      },
      "text/html": [
       "Cannot show widget. You probably want to rerun the code cell above (<i>Click in the code cell, and press Shift+Enter <kbd>⇧</kbd>+<kbd>↩</kbd></i>)."
      ],
      "text/plain": [
       "Cannot show ipywidgets in text"
      ]
     },
     "metadata": {},
     "output_type": "display_data"
    }
   ],
   "source": [
    "JupyterViz(\n",
    "    model_class=GeoSchellingPoints,\n",
    "    model_params={\n",
    "        \"red_percentage\": 0.5,\n",
    "        \"similarity_threshold\": 0.5,\n",
    "    },\n",
    "    name=\"GeoSchelling Model (Points & Polygons)\",\n",
    "    measures=[\"happy\"],\n",
    "    play_interval=1500,\n",
    "    space_drawer=make_geospace,\n",
    ")"
   ]
  },
  {
   "cell_type": "code",
   "execution_count": null,
   "id": "38d12f25",
   "metadata": {},
   "outputs": [],
   "source": []
  }
 ],
 "metadata": {
  "kernelspec": {
   "display_name": "Python 3 (ipykernel)",
   "language": "python",
   "name": "python3"
  },
  "language_info": {
   "codemirror_mode": {
    "name": "ipython",
    "version": 3
   },
   "file_extension": ".py",
   "mimetype": "text/x-python",
   "name": "python",
   "nbconvert_exporter": "python",
   "pygments_lexer": "ipython3",
   "version": "3.11.6"
  },
  "toc": {
   "base_numbering": 1,
   "nav_menu": {},
   "number_sections": true,
   "sideBar": true,
   "skip_h1_title": false,
   "title_cell": "Table of Contents",
   "title_sidebar": "Contents",
   "toc_cell": true,
   "toc_position": {},
   "toc_section_display": true,
   "toc_window_display": true
  }
 },
 "nbformat": 4,
 "nbformat_minor": 5
}
